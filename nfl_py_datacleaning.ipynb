{
 "cells": [
  {
   "cell_type": "code",
   "execution_count": null,
   "id": "3b7483fd-a6af-40cc-bfb5-a3cfb340ba9f",
   "metadata": {},
   "outputs": [],
   "source": [
    "#common imports for working nfl_data_py\n",
    "\n",
    "import nfl_data_py as nfl\n",
    "import pandas as pd\n",
    "import os\n",
    "import numpy as np\n",
    "import urllib.request\n",
    "import matplotlib.pyplot as plt\n",
    "from matplotlib.offsetbox import AnnotationBbox, OffsetImage\n",
    "import matplotlib.image as mpimg\n",
    "\n",
    "\n",
    "#less common imports\n",
    "from io import BytesIO\n",
    "from sklearn.model_selection import train_test_split\n",
    "from sklearn.preprocessing import StandardScaler\n",
    "from sklearn.linear_model import LinearRegression\n",
    "from sklearn.metrics import mean_squared_error, r2_score\n",
    "import torch\n",
    "import torch.nn as nn\n",
    "import torch.optim as optim"
   ]
  },
  {
   "cell_type": "code",
   "execution_count": null,
   "id": "24175a35-c5ce-48c0-8e35-a29bcbbd2138",
   "metadata": {},
   "outputs": [],
   "source": [
    "#clean 2024 data\n",
    "\n",
    "df_twofour = nfl.import_pbp_data([2024], downcast=True, cache=False, alt_path=None, include_participation=False)\n",
    "\n",
    "#regular season data only\n",
    "df_twofour = df_twofour.loc[df_twofour.season_type=='REG']\n",
    "\n",
    "#remove kick offs, field goals, kneels, etc - only plays with passes, runs, and penalties\n",
    "df_twofour = df_twofour.loc[(df_twofour.play_type.isin(['no_play','pass','run'])) & (df_twofour.epa.isna()==False)]\n",
    "\n",
    "#match play call to play type, so QB scrambles still considered pass plays\n",
    "df_twofour.loc[df_twofour['pass']==1, 'play_type'] = 'pass'\n",
    "df_twofour.loc[df_twofour.rush==1, 'play_type'] = 'run'\n",
    "\n",
    "#reset index to skip missing numbers\n",
    "df_twofour.reset_index(drop=True, inplace=True)\n",
    "\n",
    "df_twofour.head()\n"
   ]
  }
 ],
 "metadata": {
  "kernelspec": {
   "display_name": "Python 3 (ipykernel)",
   "language": "python",
   "name": "python3"
  },
  "language_info": {
   "codemirror_mode": {
    "name": "ipython",
    "version": 3
   },
   "file_extension": ".py",
   "mimetype": "text/x-python",
   "name": "python",
   "nbconvert_exporter": "python",
   "pygments_lexer": "ipython3",
   "version": "3.12.4"
  }
 },
 "nbformat": 4,
 "nbformat_minor": 5
}
