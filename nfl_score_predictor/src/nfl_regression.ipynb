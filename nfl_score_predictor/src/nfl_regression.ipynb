{
 "cells": [
  {
   "cell_type": "code",
   "execution_count": null,
   "id": "891339b3-810c-4463-b46f-3d60574794d5",
   "metadata": {},
   "outputs": [],
   "source": []
  },
  {
   "cell_type": "code",
   "execution_count": null,
   "id": "b703b601-66d0-4008-8672-f319628c5935",
   "metadata": {},
   "outputs": [],
   "source": [
    "features = [\n",
    "    'air_yards', 'air_epa', 'yac_epa', 'yards_gained',\n",
    "    'tot_rush_epa', 'tot_pass_epa',\n",
    "    'Def Rush EPA', 'Def Pass EPA', 'pass_epa', 'rush_epa', 'o_ints', 'o_forced_fumble',\n",
    "    'o_tac_for_loss', 'o_sacks', 'qb_hit', 'is_home'\n",
    "]\n",
    "target = 'Score'"
   ]
  },
  {
   "cell_type": "code",
   "execution_count": null,
   "id": "cad35177-c493-4909-b2c6-816d1c8247bf",
   "metadata": {},
   "outputs": [],
   "source": [
    "#start with Regression Model - will assume equal relationship between features\n",
    "\n",
    "X = train_df[features]\n",
    "y = train_df[target]\n",
    "\n",
    "X_train, X_test, y_train, y_test = train_test_split(\n",
    "    X, y, test_size=0.2, random_state=42\n",
    ")\n",
    "\n",
    "model = LinearRegression()\n",
    "model.fit(X_train, y_train)"
   ]
  },
  {
   "cell_type": "code",
   "execution_count": null,
   "id": "52a0d0db-c9aa-47f0-92e8-0d12c1bc8d32",
   "metadata": {},
   "outputs": [],
   "source": [
    "# Make predictions\n",
    "y_pred = model.predict(X_test)\n",
    "\n",
    "# Evaluate\n",
    "mae = mean_absolute_error(y_test, y_pred)\n",
    "mse = mean_squared_error(y_test, y_pred)\n",
    "rmse = mse ** 0.5\n",
    "\n",
    "print(f\"MAE: {mae:.2f}, RMSE: {rmse:.2f}\")\n",
    "\n",
    "'''\n",
    "notes on initial regression scores:\n",
    "\n",
    "2024 alone: \n",
    "MAE 4.06\n",
    "RMSE: 519\n",
    "\n",
    "2020 - 2023 92024 excluded):\n",
    "4.56\n",
    "5.69\n",
    "'''\n"
   ]
  },
  {
   "cell_type": "code",
   "execution_count": null,
   "id": "4b5ec1d4-3ffb-4f7e-a080-2e1f7ff8f33b",
   "metadata": {},
   "outputs": [],
   "source": []
  }
 ],
 "metadata": {
  "kernelspec": {
   "display_name": "Python 3 (ipykernel)",
   "language": "python",
   "name": "python3"
  },
  "language_info": {
   "codemirror_mode": {
    "name": "ipython",
    "version": 3
   },
   "file_extension": ".py",
   "mimetype": "text/x-python",
   "name": "python",
   "nbconvert_exporter": "python",
   "pygments_lexer": "ipython3",
   "version": "3.12.4"
  }
 },
 "nbformat": 4,
 "nbformat_minor": 5
}
